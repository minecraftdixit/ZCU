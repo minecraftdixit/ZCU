{
 "cells": [
  {
   "cell_type": "code",
   "execution_count": 1,
   "id": "5de75e4c",
   "metadata": {
    "scrolled": false
   },
   "outputs": [
    {
     "name": "stderr",
     "output_type": "stream",
     "text": [
      "2022-12-28 03:53:37.221799: W tensorflow/stream_executor/platform/default/dso_loader.cc:64] Could not load dynamic library 'libcudart.so.11.0'; dlerror: libcudart.so.11.0: cannot open shared object file: No such file or directory; LD_LIBRARY_PATH: /opt/xilinx/xrt/lib:/usr/lib:/usr/lib/x86_64-linux-gnu\n",
      "2022-12-28 03:53:37.221814: I tensorflow/stream_executor/cuda/cudart_stub.cc:29] Ignore above cudart dlerror if you do not have a GPU set up on your machine.\n"
     ]
    }
   ],
   "source": [
    "import numpy as np\n",
    "import tensorflow as tf\n",
    "from sklearn.model_selection import train_test_split\n",
    "from tensorflow import keras"
   ]
  },
  {
   "cell_type": "code",
   "execution_count": 2,
   "id": "73a37251",
   "metadata": {},
   "outputs": [],
   "source": [
    "data = np.random.rand(200,1024,768,3)\n",
    "test=np.random.rand(200,256,192,8)\n",
    "train=data\n",
    "#test=np.random.rand(100,64,48,192)"
   ]
  },
  {
   "cell_type": "code",
   "execution_count": 3,
   "id": "b59167f8",
   "metadata": {
    "scrolled": true
   },
   "outputs": [
    {
     "name": "stderr",
     "output_type": "stream",
     "text": [
      "2022-12-28 03:54:00.213695: W tensorflow/stream_executor/platform/default/dso_loader.cc:64] Could not load dynamic library 'libcuda.so.1'; dlerror: libcuda.so.1: cannot open shared object file: No such file or directory; LD_LIBRARY_PATH: /opt/xilinx/xrt/lib:/usr/lib:/usr/lib/x86_64-linux-gnu\n",
      "2022-12-28 03:54:00.213710: W tensorflow/stream_executor/cuda/cuda_driver.cc:269] failed call to cuInit: UNKNOWN ERROR (303)\n",
      "2022-12-28 03:54:00.213719: I tensorflow/stream_executor/cuda/cuda_diagnostics.cc:156] kernel driver does not appear to be running on this host (binod-OptiPlex-5090): /proc/driver/nvidia/version does not exist\n",
      "2022-12-28 03:54:00.214000: I tensorflow/core/platform/cpu_feature_guard.cc:151] This TensorFlow binary is optimized with oneAPI Deep Neural Network Library (oneDNN) to use the following CPU instructions in performance-critical operations:  AVX2 AVX512F FMA\n",
      "To enable them in other operations, rebuild TensorFlow with the appropriate compiler flags.\n"
     ]
    }
   ],
   "source": [
    "input1 = tf.keras.Input(shape=(1024,768,3))\n",
    "#x1 = tf.keras.layers.ZeroPadding2D(padding=(2))(input1)\n",
    "x1 = tf.keras.layers.Conv2D(8,5,strides=(2,2),padding='same',dilation_rate=(1, 1),groups=1,activation=None,use_bias=True)(input1)\n",
    "x2 = tf.keras.layers.Conv2D(8,3,strides=(2,2),padding='same',dilation_rate=(1, 1),groups=1,activation=None,use_bias=True)(x1)\n",
    "x3 = tf.keras.layers.Conv2D(8,3,strides=(1,1),padding='same',dilation_rate=(1, 1),groups=1,activation=None,use_bias=True)(x2)\n",
    "x4 = tf.keras.layers.Conv2D(192,5,strides=(2,2),padding='same',dilation_rate=(1, 1),groups=1,activation=None,use_bias=True)(x3)\n",
    "x5 = tf.keras.layers.Conv2D(192,5,strides=(2,2),padding='same',dilation_rate=(1, 1),groups=1,activation=None,use_bias=True)(x4)\n",
    "model1 = keras.Model(inputs=input1, outputs=x3)"
   ]
  },
  {
   "cell_type": "code",
   "execution_count": 4,
   "id": "a2d0c2ab",
   "metadata": {},
   "outputs": [
    {
     "data": {
      "text/plain": [
       "<KerasTensor: shape=(None, 256, 192, 8) dtype=float32 (created by layer 'conv2d_2')>"
      ]
     },
     "execution_count": 4,
     "metadata": {},
     "output_type": "execute_result"
    }
   ],
   "source": [
    "x3"
   ]
  },
  {
   "cell_type": "code",
   "execution_count": 5,
   "id": "07de396a",
   "metadata": {},
   "outputs": [],
   "source": [
    "x_train, x_test, y_train, y_test=train_test_split(train, test, test_size=0.1)"
   ]
  },
  {
   "cell_type": "code",
   "execution_count": 6,
   "id": "3d7b1a3a",
   "metadata": {
    "scrolled": true
   },
   "outputs": [
    {
     "name": "stdout",
     "output_type": "stream",
     "text": [
      "Model: \"model\"\n",
      "_________________________________________________________________\n",
      " Layer (type)                Output Shape              Param #   \n",
      "=================================================================\n",
      " input_1 (InputLayer)        [(None, 1024, 768, 3)]    0         \n",
      "                                                                 \n",
      " conv2d (Conv2D)             (None, 512, 384, 8)       608       \n",
      "                                                                 \n",
      " conv2d_1 (Conv2D)           (None, 256, 192, 8)       584       \n",
      "                                                                 \n",
      " conv2d_2 (Conv2D)           (None, 256, 192, 8)       584       \n",
      "                                                                 \n",
      "=================================================================\n",
      "Total params: 1,776\n",
      "Trainable params: 1,776\n",
      "Non-trainable params: 0\n",
      "_________________________________________________________________\n"
     ]
    }
   ],
   "source": [
    "model1.compile(optimizer='adagrad',loss=\"MeanAbsoluteError\",metrics=\"MeanAbsoluteError\")\n",
    "model1.summary()"
   ]
  },
  {
   "cell_type": "code",
   "execution_count": 7,
   "id": "a54243c1",
   "metadata": {
    "scrolled": true
   },
   "outputs": [
    {
     "name": "stderr",
     "output_type": "stream",
     "text": [
      "2022-12-28 03:54:11.196165: W tensorflow/core/framework/cpu_allocator_impl.cc:82] Allocation of 1509949440 exceeds 10% of free system memory.\n"
     ]
    },
    {
     "name": "stdout",
     "output_type": "stream",
     "text": [
      "Epoch 1/2\n",
      "160/160 [==============================] - ETA: 0s - loss: 0.3818 - mean_absolute_error: 0.3818\n",
      "Epoch 1: val_loss improved from inf to 0.29831, saving model to project.h5\n",
      "160/160 [==============================] - 14s 66ms/step - loss: 0.3818 - mean_absolute_error: 0.3818 - val_loss: 0.2983 - val_mean_absolute_error: 0.2983\n",
      "Epoch 2/2\n",
      "160/160 [==============================] - ETA: 0s - loss: 0.2953 - mean_absolute_error: 0.2953\n",
      "Epoch 2: val_loss improved from 0.29831 to 0.29376, saving model to project.h5\n",
      "160/160 [==============================] - 10s 61ms/step - loss: 0.2953 - mean_absolute_error: 0.2953 - val_loss: 0.2938 - val_mean_absolute_error: 0.2938\n"
     ]
    },
    {
     "data": {
      "text/plain": [
       "<keras.callbacks.History at 0x7fc6d4339110>"
      ]
     },
     "execution_count": 7,
     "metadata": {},
     "output_type": "execute_result"
    }
   ],
   "source": [
    "checkpoint = tf.keras.callbacks.ModelCheckpoint('project.h5', monitor='val_loss',\n",
    "save_best_only=True, verbose=2)\n",
    "model1.fit(x_train,y_train,batch_size=1,epochs=2,validation_split=(1/9),callbacks=[checkpoint])"
   ]
  },
  {
   "cell_type": "code",
   "execution_count": 8,
   "id": "37b5bb3c",
   "metadata": {},
   "outputs": [
    {
     "data": {
      "text/plain": [
       "dtype('float32')"
      ]
     },
     "execution_count": 8,
     "metadata": {},
     "output_type": "execute_result"
    }
   ],
   "source": [
    "model1.get_weights()[0].dtype"
   ]
  },
  {
   "cell_type": "code",
   "execution_count": 9,
   "id": "6b98c191",
   "metadata": {},
   "outputs": [],
   "source": [
    "from tensorflow_model_optimization.quantization.keras import vitis_quantize"
   ]
  },
  {
   "cell_type": "code",
   "execution_count": 10,
   "id": "d9e12312",
   "metadata": {
    "scrolled": true
   },
   "outputs": [
    {
     "name": "stdout",
     "output_type": "stream",
     "text": [
      "[VAI INFO] Update activation_bit: 8\n",
      "[VAI INFO] Update weight_bit: 8\n",
      "[VAI INFO] Start CrossLayerEqualization...\n",
      "10/10 [==============================] - 0s 28ms/step\n",
      "[VAI INFO] CrossLayerEqualization Done.\n",
      "[VAI INFO] Start Quantize Calibration...\n"
     ]
    },
    {
     "name": "stderr",
     "output_type": "stream",
     "text": [
      "2022-12-28 03:55:01.345978: W tensorflow/core/framework/cpu_allocator_impl.cc:82] Allocation of 1887436800 exceeds 10% of free system memory.\n"
     ]
    },
    {
     "name": "stdout",
     "output_type": "stream",
     "text": [
      "7/7 [==============================] - 31s 2s/step\n",
      "[VAI INFO] Quantize Calibration Done.\n",
      "[VAI INFO] Start Post-Quant Model Refinement...\n",
      "[VAI INFO] Start Quantize Position Ajustment...\n",
      "[VAI INFO] Quantize Position Ajustment Done.\n",
      "[VAI INFO] Post-Quant Model Refninement Done.\n",
      "[VAI INFO] Start Model Finalization...\n",
      "[VAI INFO] Model Finalization Done.\n",
      "[VAI INFO] Quantization Finished.\n"
     ]
    }
   ],
   "source": [
    "quantizer = vitis_quantize.VitisQuantizer(model1)\n",
    "quantized_model = quantizer.quantize_model(calib_dataset = train, weight_bit=8, activation_bit=8)"
   ]
  },
  {
   "cell_type": "code",
   "execution_count": 11,
   "id": "e82198c7",
   "metadata": {},
   "outputs": [
    {
     "name": "stdout",
     "output_type": "stream",
     "text": [
      "[0.2938533425331116, 0.2938533425331116]\n"
     ]
    }
   ],
   "source": [
    "quantized_model.compile(loss=\"MeanAbsoluteError\",metrics=\"MeanAbsoluteError\")\n",
    "\n",
    "score = quantized_model.evaluate(x_test, y_test,  verbose=0, batch_size=1)\n",
    "print(score)"
   ]
  },
  {
   "cell_type": "code",
   "execution_count": 12,
   "id": "197ff862",
   "metadata": {},
   "outputs": [],
   "source": [
    "quantized_model.save('custom_dpu_0.h5')"
   ]
  },
  {
   "cell_type": "code",
   "execution_count": 14,
   "id": "814c948c",
   "metadata": {},
   "outputs": [
    {
     "name": "stdout",
     "output_type": "stream",
     "text": [
      "**************************************************\n",
      "* VITIS_AI Compilation - Xilinx Inc.\n",
      "**************************************************\n",
      "[INFO] Namespace(batchsize=1, inputs_shape=None, layout='NHWC', model_files=['./custom_dpu_0.h5'], model_type='tensorflow2', named_inputs_shape=None, out_filename='/tmp/custom_dpu_compiled_0_DPUCZDX8G_ISA1_B4096_org.xmodel', proto=None)\n",
      "[INFO] tensorflow2 model: /workspace/custom_dpu_0.h5\n",
      "[INFO] keras version: 2.8.0\n",
      "[INFO] Tensorflow Keras model type: functional\n",
      "[INFO] parse raw model     :100%|█| 5/5 [00:00<00:00, 15580.62it/s]             \n",
      "[INFO] infer shape (NHWC)  :100%|█| 8/8 [00:00<00:00, 721.45it/s]               \n",
      "[INFO] perform level-0 opt :100%|█| 2/2 [00:00<00:00, 2867.90it/s]              \n",
      "[INFO] perform level-1 opt :100%|█| 2/2 [00:00<00:00, 9436.00it/s]              \n",
      "[INFO] generate xmodel     :100%|█| 8/8 [00:00<00:00, 3399.98it/s]              \n",
      "[INFO] dump xmodel: /tmp/custom_dpu_compiled_0_DPUCZDX8G_ISA1_B4096_org.xmodel\n",
      "[UNILOG][INFO] Compile mode: dpu\n",
      "[UNILOG][INFO] Debug mode: function\n",
      "[UNILOG][INFO] Target architecture: DPUCZDX8G_ISA1_B4096\n",
      "[UNILOG][INFO] Graph name: model, with op num: 20\n",
      "[UNILOG][INFO] Begin to compile...\n",
      "[UNILOG][INFO] Total device subgraph number 3, DPU subgraph number 1\n",
      "[UNILOG][INFO] Compile done.\n",
      "[UNILOG][INFO] The meta json is saved to \"/workspace/./meta.json\"\n",
      "[UNILOG][INFO] The compiled xmodel is saved to \"/workspace/./custom_dpu_compiled_0.xmodel\"\n",
      "[UNILOG][INFO] The compiled xmodel's md5sum is da893e71e9d8a67bf25551b841c05ef1, and has been saved to \"/workspace/./md5sum.txt\"\n"
     ]
    }
   ],
   "source": [
    "!vai_c_tensorflow2 \\\n",
    "    --model ./custom_dpu_0.h5 \\\n",
    "    --arch /opt/vitis_ai/compiler/arch/DPUCZDX8G/ZCU104/arch.json \\\n",
    "    --output_dir . \\\n",
    "    --net_name custom_dpu_compiled_0"
   ]
  }
 ],
 "metadata": {
  "kernelspec": {
   "display_name": "Python 3 (ipykernel)",
   "language": "python",
   "name": "python3"
  },
  "language_info": {
   "codemirror_mode": {
    "name": "ipython",
    "version": 3
   },
   "file_extension": ".py",
   "mimetype": "text/x-python",
   "name": "python",
   "nbconvert_exporter": "python",
   "pygments_lexer": "ipython3",
   "version": "3.7.12"
  }
 },
 "nbformat": 4,
 "nbformat_minor": 5
}
